{
  "cells": [
    {
      "cell_type": "markdown",
      "metadata": {
        "id": "view-in-github",
        "colab_type": "text"
      },
      "source": [
        "<a href=\"https://colab.research.google.com/github/Rizwan-Ahmed-Arain/PIAIC-projects-Quater-2/blob/main/langchain_hello_world.ipynb\" target=\"_parent\"><img src=\"https://colab.research.google.com/assets/colab-badge.svg\" alt=\"Open In Colab\"/></a>"
      ]
    },
    {
      "cell_type": "markdown",
      "source": [
        "**Step 1: Set Up Your Environment**"
      ],
      "metadata": {
        "id": "W_MuOFGj0KJW"
      }
    },
    {
      "cell_type": "code",
      "execution_count": null,
      "metadata": {
        "id": "4xzOLvTWKMT9"
      },
      "outputs": [],
      "source": [
        "!pip install langchain langchain-google-genai"
      ]
    },
    {
      "cell_type": "markdown",
      "source": [
        "**STEP 2 : Importing Generative AI**"
      ],
      "metadata": {
        "id": "l2XWlIHy1XwR"
      }
    },
    {
      "cell_type": "code",
      "execution_count": null,
      "metadata": {
        "id": "hM6oTzE7RRS8"
      },
      "outputs": [],
      "source": [
        "import langchain_google_genai as genai"
      ]
    },
    {
      "cell_type": "code",
      "execution_count": null,
      "metadata": {
        "id": "Swoax9YZSSr1"
      },
      "outputs": [],
      "source": [
        "from langchain_google_genai import ChatGoogleGenerativeAI"
      ]
    },
    {
      "cell_type": "markdown",
      "source": [
        "**STEP4: Creating safe enviroment to enter API key**"
      ],
      "metadata": {
        "id": "YzpWL5BA1m-J"
      }
    },
    {
      "cell_type": "code",
      "execution_count": null,
      "metadata": {
        "id": "MAMK-OSMfzIi"
      },
      "outputs": [],
      "source": [
        "from getpass import getpass\n",
        "\n",
        "# Prompt the user for the API key\n",
        "GOOGLE_API_KEY = getpass('Enter your Google API Key: ')\n"
      ]
    },
    {
      "cell_type": "markdown",
      "source": [
        "**STEP5: Calling the model**"
      ],
      "metadata": {
        "id": "88_aFGQC2F6Q"
      }
    },
    {
      "cell_type": "code",
      "execution_count": null,
      "metadata": {
        "id": "zpSs0JcnS-MY"
      },
      "outputs": [],
      "source": [
        "model : ChatGoogleGenerativeAI = ChatGoogleGenerativeAI(\n",
        "    model = \"gemini-1.5-flash\",\n",
        "    api_key=GOOGLE_API_KEY,\n",
        ")"
      ]
    },
    {
      "cell_type": "markdown",
      "source": [
        "**STEP6: Testing**"
      ],
      "metadata": {
        "id": "t7kpAYT32OrK"
      }
    },
    {
      "cell_type": "code",
      "execution_count": null,
      "metadata": {
        "id": "p1DcBNvTUu4i"
      },
      "outputs": [],
      "source": [
        "response = model.invoke(\"how to do swiming\")\n",
        "print(response.content)"
      ]
    }
  ],
  "metadata": {
    "accelerator": "GPU",
    "colab": {
      "gpuType": "T4",
      "provenance": [],
      "authorship_tag": "ABX9TyM2nEmlsZdDHJeHvMEgPPhr",
      "include_colab_link": true
    },
    "kernelspec": {
      "display_name": "Python 3",
      "name": "python3"
    },
    "language_info": {
      "name": "python"
    }
  },
  "nbformat": 4,
  "nbformat_minor": 0
}